{
 "cells": [
  {
   "cell_type": "markdown",
   "id": "81c543e7",
   "metadata": {},
   "source": [
    "# Dummy models"
   ]
  },
  {
   "cell_type": "markdown",
   "id": "4bef1d38",
   "metadata": {},
   "source": [
    "To construct an  `InterpolationModel`, or one of its subclasses (such as `ARTModel`), one must choose which degrees of freedom and displacements to consider. Displaced structures must be built, their polarizabilities must be calculated, and finally these polarizabilities must be fed into an appropriate polarizability model. \n",
    "\n",
    "There are infinite number of ways to express a system's degrees of freedom; ultimately, this choice depends on user preference as well as the research question at hand. However, before carrying out expensive polarizability calculations, we want to be sure that our DOFs are, at the very lease, **valid**. \n",
    "\n",
    "For this purpose, we use dummy models. Essentially, we build up a polarizability model the same way we always have, except we instruct the model to ignore all polarizabilities. Internally, the model generates dummy polarizabilities. Although a dummy model cannot be used to predict polarizabilities (and therefore cannot be used to compute Raman spectra), it gives us a chance to perform a \"dry run\" before carrying out any first principles calculations.\n",
    "\n",
    "In this tutorial, show how to use dummy models to ensure that all DOFs are properly specified."
   ]
  },
  {
   "cell_type": "markdown",
   "id": "0b8f3299-8cf3-4c00-b2b2-fb514c3aeb0f",
   "metadata": {},
   "source": [
    "We'll import everything we'll need up front, as well add some customizations for matplotlib."
   ]
  },
  {
   "cell_type": "code",
   "execution_count": 1,
   "id": "3956373a-63a1-4128-b0f2-e2711b5a5213",
   "metadata": {},
   "outputs": [],
   "source": [
    "import numpy as np\n",
    "from matplotlib import pyplot as plt\n",
    "import matplotlib_inline\n",
    "\n",
    "import ramannoodle.io.vasp as vasp_io\n",
    "from ramannoodle.polarizability.art import ARTModel\n",
    "from ramannoodle.structure import symmetry_utils\n",
    "from ramannoodle.spectrum.spectrum_utils import convolve_spectrum\n",
    "\n",
    "matplotlib_inline.backend_inline.set_matplotlib_formats('png')\n",
    "plt.rcParams['figure.dpi'] = 300\n",
    "plt.rcParams['font.family'] = 'sans-serif'\n",
    "plt.rcParams[\"mathtext.default\"] = 'regular'\n",
    "plt.rcParams['axes.linewidth'] = 0.5\n",
    "plt.rcParams['xtick.major.width'] = 0.5\n",
    "plt.rcParams['xtick.minor.width'] = 0.5\n",
    "plt.rcParams['lines.linewidth'] = 1.5"
   ]
  },
  {
   "cell_type": "markdown",
   "id": "d7da690f-f4db-4509-8c89-014e7a49c83b",
   "metadata": {},
   "source": [
    "Our final goal is to calculate TiO2's Raman spectrum using data available in `tests/data/TiO2`. We will be basing this spectrum on frozen phonon calculations and use `ARTModel` to estimate phonon polarizabilities."
   ]
  },
  {
   "cell_type": "code",
   "execution_count": 2,
   "id": "6102769c-0416-497a-b6a9-e451b66ca71d",
   "metadata": {},
   "outputs": [],
   "source": [
    "data_dir = \"../../../test/data/TiO2\"\n",
    "outcar = f\"{data_dir}/phonons_OUTCAR\"\n",
    "ref_structure = vasp_io.outcar.read_ref_structure(outcar)\n"
   ]
  },
  {
   "cell_type": "markdown",
   "id": "c6831e95",
   "metadata": {},
   "source": [
    "Now that we have the reference structure, we can build the polarizability model. We do this the usual way, but we specify `is_dummy_model = True`. We also can use any value for `equilibrium_polarizability`, as this parameter is simply ignored."
   ]
  },
  {
   "cell_type": "code",
   "execution_count": 3,
   "id": "f14761e9-96a8-4317-94cb-47153683eb88",
   "metadata": {},
   "outputs": [
    {
     "data": {
      "text/plain": [
       "╭──────────────┬──────────────┬─────────────┬────────────────────╮\n",
       "│   Atom index │ Directions   │ Specified   │   Equivalent atoms │\n",
       "├──────────────┼──────────────┼─────────────┼────────────────────┤\n",
       "│            0 │              │ \u001b[1;31;49m0/3\u001b[0m         │                 35 │\n",
       "│           36 │              │ \u001b[1;31;49m0/3\u001b[0m         │                 71 │\n",
       "╰──────────────┴──────────────┴─────────────┴────────────────────╯\n",
       " \u001b[1;33;49m ATTENTION: this is a dummy model. \u001b[0m"
      ]
     },
     "execution_count": 3,
     "metadata": {},
     "output_type": "execute_result"
    }
   ],
   "source": [
    "_, equilibrium_polarizability = vasp_io.outcar.read_positions_and_polarizability(\n",
    "   f\"{data_dir}/ref_eps_OUTCAR\"\n",
    ")\n",
    "model = ARTModel(ref_structure=ref_structure, \n",
    "                 equilibrium_polarizability = np.zeros((3,3)), # This value is completely ignored.\n",
    "                 is_dummy_model=True)               \n",
    "model"
   ]
  },
  {
   "cell_type": "markdown",
   "id": "58d82797",
   "metadata": {},
   "source": [
    "Note that the `__repr__` string indicates that this is a dummy model."
   ]
  },
  {
   "cell_type": "code",
   "execution_count": 4,
   "id": "147f6a26-a22a-4cff-9659-336d6316e0b1",
   "metadata": {},
   "outputs": [
    {
     "data": {
      "text/plain": [
       "╭──────────────┬─────────────────────────────────────────────┬─────────────┬────────────────────╮\n",
       "│   Atom index │ Directions                                  │ Specified   │   Equivalent atoms │\n",
       "├──────────────┼─────────────────────────────────────────────┼─────────────┼────────────────────┤\n",
       "│            0 │ [-1. -0. +0.], [-0. -1. -0.], [-0. -0. +1.] │ \u001b[1;32;49m3/3\u001b[0m         │                 35 │\n",
       "│           36 │ [+0. +0. +1.], [+1. +0. -0.], [+0. +1. -0.] │ \u001b[1;32;49m3/3\u001b[0m         │                 71 │\n",
       "╰──────────────┴─────────────────────────────────────────────┴─────────────┴────────────────────╯\n",
       " \u001b[1;33;49m ATTENTION: this is a dummy model. \u001b[0m"
      ]
     },
     "execution_count": 4,
     "metadata": {},
     "output_type": "execute_result"
    }
   ],
   "source": [
    "# Now we can add the outcars. Because we have a dummy model, ramannoodle will not look for polarizabilities in these files. Therefore, we could use OUTCARs from other calculations or (more commonly) use POSCARs.\n",
    "model.add_art_from_files(\n",
    "    [f\"{data_dir}/Ti5_0.1x_eps_OUTCAR\"], file_format = 'outcar'\n",
    "  )\n",
    "model.add_art_from_files(\n",
    "    [f\"{data_dir}/Ti5_0.1z_eps_OUTCAR\"],file_format = 'outcar'\n",
    "  )\n",
    "model.add_art_from_files(\n",
    "    [f\"{data_dir}/O43_0.1z_eps_OUTCAR\", f\"{data_dir}/O43_m0.1z_eps_OUTCAR\"], \n",
    "    file_format=\"outcar\"\n",
    ")\n",
    "model.add_art_from_files(\n",
    "    [f\"{data_dir}/O43_0.1x_eps_OUTCAR\"], file_format = 'outcar'\n",
    ")\n",
    "model.add_art_from_files([f\"{data_dir}/O43_0.1y_eps_OUTCAR\"],file_format = 'outcar')\n",
    "model"
   ]
  },
  {
   "cell_type": "markdown",
   "id": "a6c70688",
   "metadata": {},
   "source": [
    "From the \"Specified\" column, we see that all degrees of freedom have been specified. Clearly, our code is working and we chose our DOFs wisely. Nice work! Now what will happen if we try to compute a Raman spectrum with this dummy model?"
   ]
  },
  {
   "cell_type": "code",
   "execution_count": 5,
   "id": "b1f2cb2c-8444-4b6a-ae8e-f1ac6c6a6e98",
   "metadata": {},
   "outputs": [
    {
     "ename": "UsageError",
     "evalue": "dummy model cannot calculate polarizabilities",
     "output_type": "error",
     "traceback": [
      "\u001b[0;31m---------------------------------------------------------------------------\u001b[0m",
      "\u001b[0;31mValueError\u001b[0m                                Traceback (most recent call last)",
      "File \u001b[0;32m~/Research/DFT/ramannoodle/ramannoodle/polarizability/interpolation.py:174\u001b[0m, in \u001b[0;36mInterpolationModel.get_polarizability\u001b[0;34m(self, cart_displacement)\u001b[0m\n\u001b[1;32m    173\u001b[0m \u001b[38;5;28;01mtry\u001b[39;00m:\n\u001b[0;32m--> 174\u001b[0m \u001b[43m    \u001b[49m\u001b[38;5;28;43;01mfor\u001b[39;49;00m\u001b[43m \u001b[49m\u001b[43mbasis_vector\u001b[49m\u001b[43m,\u001b[49m\u001b[43m \u001b[49m\u001b[43minterpolation\u001b[49m\u001b[43m,\u001b[49m\u001b[43m \u001b[49m\u001b[43mmask\u001b[49m\u001b[43m \u001b[49m\u001b[38;5;129;43;01min\u001b[39;49;00m\u001b[43m \u001b[49m\u001b[38;5;28;43mzip\u001b[39;49m\u001b[43m(\u001b[49m\n\u001b[1;32m    175\u001b[0m \u001b[43m        \u001b[49m\u001b[38;5;28;43mself\u001b[39;49m\u001b[38;5;241;43m.\u001b[39;49m\u001b[43m_cart_basis_vectors\u001b[49m\u001b[43m,\u001b[49m\n\u001b[1;32m    176\u001b[0m \u001b[43m        \u001b[49m\u001b[38;5;28;43mself\u001b[39;49m\u001b[38;5;241;43m.\u001b[39;49m\u001b[43m_interpolations\u001b[49m\u001b[43m,\u001b[49m\n\u001b[1;32m    177\u001b[0m \u001b[43m        \u001b[49m\u001b[38;5;28;43mself\u001b[39;49m\u001b[38;5;241;43m.\u001b[39;49m\u001b[43m_mask\u001b[49m\u001b[43m,\u001b[49m\n\u001b[1;32m    178\u001b[0m \u001b[43m        \u001b[49m\u001b[43mstrict\u001b[49m\u001b[38;5;241;43m=\u001b[39;49m\u001b[38;5;28;43;01mTrue\u001b[39;49;00m\u001b[43m,\u001b[49m\n\u001b[1;32m    179\u001b[0m \u001b[43m    \u001b[49m\u001b[43m)\u001b[49m\u001b[43m:\u001b[49m\n\u001b[1;32m    180\u001b[0m \u001b[43m        \u001b[49m\u001b[38;5;28;43;01mtry\u001b[39;49;00m\u001b[43m:\u001b[49m\n",
      "\u001b[0;31mValueError\u001b[0m: zip() argument 2 is shorter than argument 1",
      "\nThe above exception was the direct cause of the following exception:\n",
      "\u001b[0;31mUsageError\u001b[0m                                Traceback (most recent call last)",
      "Cell \u001b[0;32mIn[5], line 3\u001b[0m\n\u001b[1;32m      1\u001b[0m \u001b[38;5;66;03m# Compute and plot spectrum\u001b[39;00m\n\u001b[1;32m      2\u001b[0m phonons \u001b[38;5;241m=\u001b[39m vasp_io\u001b[38;5;241m.\u001b[39moutcar\u001b[38;5;241m.\u001b[39mread_phonons(\u001b[38;5;124mf\u001b[39m\u001b[38;5;124m\"\u001b[39m\u001b[38;5;132;01m{\u001b[39;00mdata_dir\u001b[38;5;132;01m}\u001b[39;00m\u001b[38;5;124m/phonons_OUTCAR\u001b[39m\u001b[38;5;124m\"\u001b[39m)\n\u001b[0;32m----> 3\u001b[0m spectrum \u001b[38;5;241m=\u001b[39m \u001b[43mphonons\u001b[49m\u001b[38;5;241;43m.\u001b[39;49m\u001b[43mget_raman_spectrum\u001b[49m\u001b[43m(\u001b[49m\u001b[43mmodel\u001b[49m\u001b[43m)\u001b[49m\n\u001b[1;32m      4\u001b[0m wavenumbers, total_intensities \u001b[38;5;241m=\u001b[39m spectrum\u001b[38;5;241m.\u001b[39mmeasure(laser_correction \u001b[38;5;241m=\u001b[39m \u001b[38;5;28;01mTrue\u001b[39;00m, \n\u001b[1;32m      5\u001b[0m                                            laser_wavelength \u001b[38;5;241m=\u001b[39m \u001b[38;5;241m532\u001b[39m, \n\u001b[1;32m      6\u001b[0m                                            bose_einstein_correction \u001b[38;5;241m=\u001b[39m \u001b[38;5;28;01mTrue\u001b[39;00m, \n\u001b[1;32m      7\u001b[0m                                            temperature \u001b[38;5;241m=\u001b[39m \u001b[38;5;241m300\u001b[39m)\n\u001b[1;32m      8\u001b[0m wavenumbers, total_intensities \u001b[38;5;241m=\u001b[39m convolve_spectrum(wavenumbers, total_intensities)\n",
      "File \u001b[0;32m~/Research/DFT/ramannoodle/ramannoodle/dynamics/phonon.py:82\u001b[0m, in \u001b[0;36mPhonons.get_raman_spectrum\u001b[0;34m(self, polarizability_model)\u001b[0m\n\u001b[1;32m     80\u001b[0m \u001b[38;5;28;01mfor\u001b[39;00m cart_displacement \u001b[38;5;129;01min\u001b[39;00m \u001b[38;5;28mself\u001b[39m\u001b[38;5;241m.\u001b[39m_cart_displacements:\n\u001b[1;32m     81\u001b[0m     \u001b[38;5;28;01mtry\u001b[39;00m:\n\u001b[0;32m---> 82\u001b[0m         plus \u001b[38;5;241m=\u001b[39m \u001b[43mpolarizability_model\u001b[49m\u001b[38;5;241;43m.\u001b[39;49m\u001b[43mget_polarizability\u001b[49m\u001b[43m(\u001b[49m\n\u001b[1;32m     83\u001b[0m \u001b[43m            \u001b[49m\u001b[43mcart_displacement\u001b[49m\u001b[43m \u001b[49m\u001b[38;5;241;43m*\u001b[39;49m\u001b[43m \u001b[49m\u001b[43mRAMAN_TENSOR_CENTRAL_DIFFERENCE\u001b[49m\n\u001b[1;32m     84\u001b[0m \u001b[43m        \u001b[49m\u001b[43m)\u001b[49m\n\u001b[1;32m     85\u001b[0m         minus \u001b[38;5;241m=\u001b[39m polarizability_model\u001b[38;5;241m.\u001b[39mget_polarizability(\n\u001b[1;32m     86\u001b[0m             \u001b[38;5;241m-\u001b[39mcart_displacement \u001b[38;5;241m*\u001b[39m RAMAN_TENSOR_CENTRAL_DIFFERENCE\n\u001b[1;32m     87\u001b[0m         )\n\u001b[1;32m     88\u001b[0m     \u001b[38;5;28;01mexcept\u001b[39;00m \u001b[38;5;167;01mValueError\u001b[39;00m \u001b[38;5;28;01mas\u001b[39;00m exc:\n",
      "File \u001b[0;32m~/Research/DFT/ramannoodle/ramannoodle/polarizability/interpolation.py:196\u001b[0m, in \u001b[0;36mInterpolationModel.get_polarizability\u001b[0;34m(self, cart_displacement)\u001b[0m\n\u001b[1;32m    194\u001b[0m \u001b[38;5;28;01mexcept\u001b[39;00m \u001b[38;5;167;01mValueError\u001b[39;00m \u001b[38;5;28;01mas\u001b[39;00m err:\n\u001b[1;32m    195\u001b[0m     \u001b[38;5;28;01mif\u001b[39;00m \u001b[38;5;28mself\u001b[39m\u001b[38;5;241m.\u001b[39m_is_dummy_model:\n\u001b[0;32m--> 196\u001b[0m         \u001b[38;5;28;01mraise\u001b[39;00m UsageError(\n\u001b[1;32m    197\u001b[0m             \u001b[38;5;124m\"\u001b[39m\u001b[38;5;124mdummy model cannot calculate polarizabilities\u001b[39m\u001b[38;5;124m\"\u001b[39m\n\u001b[1;32m    198\u001b[0m         ) \u001b[38;5;28;01mfrom\u001b[39;00m \u001b[38;5;21;01merr\u001b[39;00m\n\u001b[1;32m    199\u001b[0m     \u001b[38;5;28;01mraise\u001b[39;00m err\n\u001b[1;32m    201\u001b[0m \u001b[38;5;28;01mreturn\u001b[39;00m delta_polarizability \u001b[38;5;241m+\u001b[39m \u001b[38;5;28mself\u001b[39m\u001b[38;5;241m.\u001b[39m_equilibrium_polarizability\n",
      "\u001b[0;31mUsageError\u001b[0m: dummy model cannot calculate polarizabilities"
     ]
    }
   ],
   "source": [
    "# Compute and plot spectrum\n",
    "phonons = vasp_io.outcar.read_phonons(f\"{data_dir}/phonons_OUTCAR\")\n",
    "spectrum = phonons.get_raman_spectrum(model)\n",
    "wavenumbers, total_intensities = spectrum.measure(laser_correction = True, \n",
    "                                           laser_wavelength = 532, \n",
    "                                           bose_einstein_correction = True, \n",
    "                                           temperature = 300)\n",
    "wavenumbers, total_intensities = convolve_spectrum(wavenumbers, total_intensities)\n",
    "fig = plt.figure()\n",
    "axis = fig.add_subplot(111)\n",
    "axis.plot(wavenumbers, total_intensities)"
   ]
  },
  {
   "cell_type": "markdown",
   "id": "049753d4",
   "metadata": {},
   "source": [
    "Since dummy models contain no polarizability information, they cannot be used to compute spectra! "
   ]
  }
 ],
 "metadata": {
  "kernelspec": {
   "display_name": "Python 3 (ipykernel)",
   "language": "python",
   "name": "python3"
  },
  "language_info": {
   "codemirror_mode": {
    "name": "ipython",
    "version": 3
   },
   "file_extension": ".py",
   "mimetype": "text/x-python",
   "name": "python",
   "nbconvert_exporter": "python",
   "pygments_lexer": "ipython3",
   "version": "3.12.4"
  }
 },
 "nbformat": 4,
 "nbformat_minor": 5
}
