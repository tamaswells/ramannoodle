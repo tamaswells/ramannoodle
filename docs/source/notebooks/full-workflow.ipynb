{
 "cells": [
  {
   "cell_type": "markdown",
   "id": "81c543e7",
   "metadata": {},
   "source": [
    "# Full workflow"
   ]
  },
  {
   "cell_type": "markdown",
   "id": "388fd578",
   "metadata": {},
   "source": [
    "This notebook outlines a complete ramannoodle workflow and is, as always, available on [Github](https://github.com/wolearyc/ramannoodle/blob/main/docs/source/notebooks/full-workflow.ipynb).  \n",
    "\n",
    "Here, we will use [ARTModel](../generated/ramannoodle.polarizability.html#module-ramannoodle.polarizability.art.ARTModel), a flavor of [InterpolationModel](../generated/ramannoodle.polarizability.html#module-ramannoodle.polarizability.interpolation.InterpolationModel), to again calculate TiO2's Raman spectrum. ARTModel uses \"atomic Raman tensors\" to predict polarizabilities, but is ultimately an InterpolationModel where\n",
    "\n",
    "1. All degrees of freedom (DOFs) are single atom displacements.\n",
    "2. All interpolations are first-order.\n",
    "3. Only two polarizabilities are used to construct each interpolation.\n",
    "\n",
    "Under these conditions, we dub each DOF polarizability interpolation (or more precisely, the derivative of the interpolation) as an **atomic Raman tensor**, or ART.\n",
    "\n",
    "Although [ARTModel](../generated/ramannoodle.polarizability.html#module-ramannoodle.polarizability.art.ARTModel) dictates that each DOF is a single atom displacement, we are free to choose the three orthogonal directions of the atom displacements. This means there are an infinite number of valid DOFs! Ultimately, the chosen atomic DOFs depends on user preference as well as the research question at hand. Still, wise choice of atomic DOFs can significantly reduce the cost of Raman calculations. \n",
    "\n",
    "Regardless of how we choose our DOFs, we want to be sure that our DOFs are **valid** before carrying out expensive polarizability calculations and feeding the results into [ARTModel](../generated/ramannoodle.polarizability.html#module-ramannoodle.polarizability.art.ARTModel). To check our DOFs, we use **dummy models**. Essentially, we will build up a polarizability model in the usual way, except we instruct the model to internally generate \"dummy polarizabilities\". Although a dummy model cannot be used to predict polarizabilities (and therefore cannot be used to compute Raman spectra), it allows us to perform a dry run before we expend our valuable computational resources.\n",
    "\n",
    "We'll begin with some imports and some customizations to matplotlib. "
   ]
  },
  {
   "cell_type": "code",
   "execution_count": null,
   "id": "3956373a-63a1-4128-b0f2-e2711b5a5213",
   "metadata": {},
   "outputs": [],
   "source": [
    "import numpy as np\n",
    "from matplotlib import pyplot as plt\n",
    "import matplotlib_inline\n",
    "\n",
    "matplotlib_inline.backend_inline.set_matplotlib_formats('png')\n",
    "plt.rcParams['figure.dpi'] = 300\n",
    "plt.rcParams['font.family'] = 'sans-serif'\n",
    "plt.rcParams[\"mathtext.default\"] = 'regular'\n",
    "plt.rcParams['axes.linewidth'] = 0.5\n",
    "plt.rcParams['xtick.major.width'] = 0.5\n",
    "plt.rcParams['xtick.minor.width'] = 0.5\n",
    "plt.rcParams['lines.linewidth'] = 1.5"
   ]
  },
  {
   "cell_type": "markdown",
   "id": "d7da690f-f4db-4509-8c89-014e7a49c83b",
   "metadata": {},
   "source": [
    "### Setup of dummy model\n",
    "\n",
    "Our final goal is to calculate TiO2's Raman spectrum. As in the [basic tutorial](../notebooks/basics.html), we will start by reading in a reference structure. "
   ]
  },
  {
   "cell_type": "code",
   "execution_count": null,
   "id": "6102769c-0416-497a-b6a9-e451b66ca71d",
   "metadata": {},
   "outputs": [],
   "source": [
    "import ramannoodle.io.vasp as vasp_io\n",
    "\n",
    "data_dir = \"../../../test/data/TiO2\"\n",
    "ref_structure = vasp_io.poscar.read_ref_structure(f\"{data_dir}/POSCAR\")\n"
   ]
  },
  {
   "cell_type": "markdown",
   "id": "c6831e95",
   "metadata": {},
   "source": [
    "Now that we have the reference structure, we can initialize the polarizability model. We do this the usual way, but we specify `is_dummy_model = True`. Because this is a dummy model, the value for `ref_polarizability` is completely ignored. We simply set it to ``np.zeros((3,3))``. "
   ]
  },
  {
   "cell_type": "code",
   "execution_count": null,
   "id": "f14761e9-96a8-4317-94cb-47153683eb88",
   "metadata": {},
   "outputs": [],
   "source": [
    "from ramannoodle.polarizability.art import ARTModel\n",
    "\n",
    "model = ARTModel(ref_structure=ref_structure, \n",
    "                 ref_polarizability = np.zeros((3,3)), \n",
    "                 is_dummy_model=True)               \n",
    "model"
   ]
  },
  {
   "cell_type": "markdown",
   "id": "58d82797",
   "metadata": {},
   "source": [
    "Note that the `__repr__` string indicates that this is a dummy model. In addition, we see that there are two symmetrically distinct atoms: a Ti (at index 0) and an O (at index 36). In this structure, all Ti atoms are equivalent to one another as are all oxygens. Our task is therefore to compute and add DOFs for a single Ti atom and a single O atom. Ramannoodle will use symmetry to derive the remaining DOFs, at which point the model is fully specified. \n",
    "\n",
    "### Specifying candidate displacements\n",
    "\n",
    "For this example, we will choose atomic displacements along the x, y, and z directions as our DOFs. We first generate structures for these displacements then calculate the polarizabilities from first principles (in our case using VASP). To help set up these calculations, ramannoodle provides functions to write displaced structures in [ramannoodle.structure.displace](../generated/ramannoodle.structure.html#module-ramannoodle.structure.displace). Since we're using atomic Raman tensors, we will use [write_ast_displaced_structures](../generated/ramannoodle.structure.html#ramannoodle.structure.displace.write_ast_displaced_structures)."
   ]
  },
  {
   "cell_type": "code",
   "execution_count": null,
   "id": "bbc1b080",
   "metadata": {},
   "outputs": [],
   "source": [
    "from ramannoodle.structure.displace import write_ast_displaced_structures\n",
    "\n",
    "# Degrees of freedom (atomic Raman tensor) for one of the Ti atoms\n",
    "write_ast_displaced_structures(\n",
    "    ref_structure=ref_structure,\n",
    "    atom_index=4,\n",
    "    cart_direction=np.array([1,0,0]), # x direction\n",
    "    amplitudes = np.array([0.1]),     # -0.1 is symmetrically equivalent\n",
    "    file_paths = [\"Ti5_0.1x_eps_POSCAR\"],\n",
    "    file_format='poscar',\n",
    "    overwrite=True\n",
    ")\n",
    "write_ast_displaced_structures(\n",
    "    ref_structure=ref_structure,\n",
    "    atom_index=4,\n",
    "    cart_direction=np.array([0,0,1]), # z direction\n",
    "    amplitudes = np.array([0.1]),    # -0.1 is symmetrically equivalent\n",
    "    file_paths = [\"Ti5_0.1z_eps_POSCAR\"],\n",
    "    file_format='poscar',\n",
    "    overwrite=True\n",
    ")\n",
    "\n",
    "# Degrees of freedom (atomic Raman tensor) for one of the O atoms\n",
    "write_ast_displaced_structures(\n",
    "    ref_structure=ref_structure,\n",
    "    atom_index=42,\n",
    "    cart_direction=np.array([1,0,0]), # x direction\n",
    "    amplitudes = np.array([0.1]),     # -0.1 is symmetrically equivalent\n",
    "    file_paths = [\"O43_0.1x_eps_POSCAR\"],\n",
    "    file_format='poscar',\n",
    "    overwrite=True\n",
    ")\n",
    "write_ast_displaced_structures(\n",
    "    ref_structure=ref_structure,\n",
    "    atom_index=42,\n",
    "    cart_direction=np.array([0,1,0]), # y direction\n",
    "    amplitudes = np.array([0.1]), # -0.1 is symmetrically equivalent\n",
    "    file_paths = [\"O43_0.1y_eps_POSCAR\"],\n",
    "    file_format='poscar',\n",
    "    overwrite=True,\n",
    ")\n",
    "write_ast_displaced_structures(\n",
    "    ref_structure=ref_structure,\n",
    "    atom_index=42,\n",
    "    cart_direction=np.array([0,0,1]), # z direction\n",
    "    amplitudes = np.array([-0.1,0.1]), # these are unique\n",
    "    file_paths = [\"O43_m0.1z_eps_POSCAR\",\"O43_0.1z_eps_POSCAR\"], \n",
    "    file_format='poscar',\n",
    "    overwrite=True\n",
    ")"
   ]
  },
  {
   "cell_type": "markdown",
   "id": "3c471d73",
   "metadata": {},
   "source": [
    "### Testing candidate displacements\n",
    "\n",
    "We have chosen our displaced structures based on symmetry and written them to POSCARs. Before calculating polarizabilities with these POSCARs, however, we want to make sure that these displacements **cover all the DOFs of our system**. To do this, we build up our dummy model."
   ]
  },
  {
   "cell_type": "code",
   "execution_count": null,
   "id": "beb80d22",
   "metadata": {},
   "outputs": [],
   "source": [
    "# Now we can add the outcars. Because we have a dummy model, ramannoodle will not look for polarizabilities in these files. Therefore, we could use OUTCARs from other calculations or (more commonly) use POSCARs.\n",
    "model.add_art_from_files(\n",
    "    [\"Ti5_0.1x_eps_POSCAR\"], file_format = 'poscar'\n",
    "  )\n",
    "model.add_art_from_files(\n",
    "    [\"Ti5_0.1z_eps_POSCAR\"],file_format = 'poscar'\n",
    "  )\n",
    "model.add_art_from_files(\n",
    "    [\"O43_0.1z_eps_POSCAR\", \"O43_m0.1z_eps_POSCAR\"], \n",
    "    file_format=\"poscar\"\n",
    ")\n",
    "model.add_art_from_files(\n",
    "    [\"O43_0.1x_eps_POSCAR\"], file_format = 'poscar'\n",
    ")\n",
    "model.add_art_from_files([\"O43_0.1y_eps_POSCAR\"],file_format = 'poscar')\n",
    "model"
   ]
  },
  {
   "cell_type": "markdown",
   "id": "d361e957",
   "metadata": {},
   "source": [
    "Note that dummy polarizability models can be built up using files containing no polarizability data (such as POSCARs). \n",
    "\n",
    "All degrees of freedom have been specified. Clearly, we chose our DOFs wisely. Nice work! Just for kicks, what will happen if we try to compute a Raman spectrum with this dummy model?"
   ]
  },
  {
   "cell_type": "code",
   "execution_count": null,
   "id": "f15f0b63",
   "metadata": {},
   "outputs": [],
   "source": [
    "# Compute and plot spectrum\n",
    "phonons = vasp_io.outcar.read_phonons(f\"{data_dir}/phonons_OUTCAR\")\n",
    "spectrum = phonons.get_raman_spectrum(model)\n",
    "wavenumbers, total_intensities = spectrum.measure(laser_correction = True, \n",
    "                                           laser_wavelength = 532, \n",
    "                                           bose_einstein_correction = True, \n",
    "                                           temperature = 300)\n",
    "fig = plt.figure()\n",
    "axis = fig.add_subplot(111)\n",
    "axis.plot(wavenumbers, total_intensities)"
   ]
  },
  {
   "cell_type": "markdown",
   "id": "49feb409",
   "metadata": {},
   "source": [
    "Since dummy models contain no polarizability information, they cannot be used to compute spectra! \n",
    "\n",
    "### Calculating a Raman spectrum\n",
    "\n",
    "Now that we're sure our DOFs are valid, we carry out the polarizability calculations using VASP. We can then construct the real model, this time pointing to OUTCARs generated from these polarizability calculations."
   ]
  },
  {
   "cell_type": "code",
   "execution_count": null,
   "id": "147f6a26-a22a-4cff-9659-336d6316e0b1",
   "metadata": {},
   "outputs": [],
   "source": [
    "_, ref_polarizability = vasp_io.outcar.read_positions_and_polarizability(\n",
    "   f\"{data_dir}/ref_eps_OUTCAR\"\n",
    ")\n",
    "model = ARTModel(ref_structure=ref_structure, \n",
    "                 ref_polarizability = ref_polarizability)               \n",
    "\n",
    "model.add_art_from_files(\n",
    "    [f\"{data_dir}/Ti5_0.1x_eps_OUTCAR\"], file_format = 'outcar'\n",
    "  )\n",
    "model.add_art_from_files(\n",
    "    [f\"{data_dir}/Ti5_0.1z_eps_OUTCAR\"],file_format = 'outcar'\n",
    "  )\n",
    "model.add_art_from_files(\n",
    "    [f\"{data_dir}/O43_0.1z_eps_OUTCAR\", f\"{data_dir}/O43_m0.1z_eps_OUTCAR\"], \n",
    "    file_format=\"outcar\"\n",
    ")\n",
    "model.add_art_from_files(\n",
    "    [f\"{data_dir}/O43_0.1x_eps_OUTCAR\"], file_format = 'outcar'\n",
    ")\n",
    "model.add_art_from_files([f\"{data_dir}/O43_0.1y_eps_OUTCAR\"],file_format = 'outcar')\n",
    "model"
   ]
  },
  {
   "cell_type": "markdown",
   "id": "2f249e8a",
   "metadata": {},
   "source": [
    "Now we calculate the Raman spectrum."
   ]
  },
  {
   "cell_type": "code",
   "execution_count": null,
   "id": "b1f2cb2c-8444-4b6a-ae8e-f1ac6c6a6e98",
   "metadata": {},
   "outputs": [],
   "source": [
    "from ramannoodle.spectrum.spectrum_utils import convolve_spectrum\n",
    "\n",
    "# Compute and plot spectrum\n",
    "phonons = vasp_io.outcar.read_phonons(f\"{data_dir}/phonons_OUTCAR\")\n",
    "spectrum = phonons.get_raman_spectrum(model)\n",
    "wavenumbers, total_intensities = spectrum.measure(laser_correction = True, \n",
    "                                           laser_wavelength = 532, \n",
    "                                           bose_einstein_correction = True, \n",
    "                                           temperature = 300)\n",
    "wavenumbers, total_intensities = convolve_spectrum(wavenumbers, total_intensities)\n",
    "\n",
    "fig = plt.figure(constrained_layout = True, figsize = (8, 3))\n",
    "axis = fig.add_subplot(111)\n",
    "axis.plot(wavenumbers, total_intensities)\n",
    "axis.set_ylabel(\"Intensity (a.u.)\")\n",
    "l = axis.set_xlabel(r\"Raman shift ($\\mathregular{cm^{-1}}$)\")"
   ]
  },
  {
   "cell_type": "markdown",
   "id": "049753d4",
   "metadata": {},
   "source": [
    "Beautiful! \n",
    "\n",
    "So far, we have calculated phonon-based Raman spectra. Ramannoodle is also capable of calculating Raman spectra from molecular dynamics trajectories. This will be covered in the next tutorial: [Molecular dynamics](../notebooks/molecular-dynamics.html)"
   ]
  },
  {
   "cell_type": "markdown",
   "id": "903fcd14",
   "metadata": {},
   "source": []
  }
 ],
 "metadata": {
  "kernelspec": {
   "display_name": "Python 3 (ipykernel)",
   "language": "python",
   "name": "python3"
  },
  "language_info": {
   "codemirror_mode": {
    "name": "ipython",
    "version": 3
   },
   "file_extension": ".py",
   "mimetype": "text/x-python",
   "name": "python",
   "nbconvert_exporter": "python",
   "pygments_lexer": "ipython3",
   "version": "3.12.4"
  }
 },
 "nbformat": 4,
 "nbformat_minor": 5
}
