{
 "cells": [
  {
   "cell_type": "markdown",
   "id": "81c543e7",
   "metadata": {},
   "source": [
    "# Basics"
   ]
  },
  {
   "cell_type": "markdown",
   "id": "4bef1d38",
   "metadata": {},
   "source": [
    "This notebook (available on [Github](https://github.com/wolearyc/ramannoodle/blob/main/docs/source/notebooks/basic-tutorial.ipynb)) contains a short tutorial showcasing ramannoodle's workflow and basic capabilities.\n",
    "\n",
    "We'll begin with some imports, plus some customizations to matplotlib. "
   ]
  },
  {
   "cell_type": "code",
   "execution_count": null,
   "id": "3956373a-63a1-4128-b0f2-e2711b5a5213",
   "metadata": {},
   "outputs": [],
   "source": [
    "import numpy as np\n",
    "from matplotlib import pyplot as plt\n",
    "import matplotlib_inline\n",
    "\n",
    "matplotlib_inline.backend_inline.set_matplotlib_formats('png')\n",
    "plt.rcParams['figure.dpi'] = 300\n",
    "plt.rcParams['font.family'] = 'sans-serif'\n",
    "plt.rcParams[\"mathtext.default\"] = 'regular'\n",
    "plt.rcParams['axes.linewidth'] = 0.5\n",
    "plt.rcParams['xtick.major.width'] = 0.5\n",
    "plt.rcParams['xtick.minor.width'] = 0.5\n",
    "plt.rcParams['lines.linewidth'] = 1.5"
   ]
  },
  {
   "cell_type": "markdown",
   "id": "d7da690f-f4db-4509-8c89-014e7a49c83b",
   "metadata": {},
   "source": [
    "We will be computing TiO2's Raman spectrum using data available in `tests/data/TiO2` (see [Github repo](https://github.com/wolearyc/ramannoodle)). We will be basing this spectrum on frozen phonon calculations and use [InterpolationModel](../generated/ramannoodle.polarizability.html#module-ramannoodle.polarizability.interpolation.InterpolationModel) to estimate polarizabilities.\n",
    "\n",
    "### Setup\n",
    "\n",
    "First, we will read in phonons. "
   ]
  },
  {
   "cell_type": "code",
   "execution_count": null,
   "id": "6102769c-0416-497a-b6a9-e451b66ca71d",
   "metadata": {},
   "outputs": [],
   "source": [
    "import ramannoodle.io.vasp as vasp_io\n",
    "\n",
    "data_dir = \"../../../test/data/TiO2\"\n",
    "phonon_outcar = f\"{data_dir}/phonons_OUTCAR\"\n",
    "\n",
    "# Read the phonons\n",
    "phonons = vasp_io.outcar.read_phonons(phonon_outcar)"
   ]
  },
  {
   "cell_type": "markdown",
   "id": "c6831e95",
   "metadata": {},
   "source": [
    "Then we'll read in a reference structure and start building our polarizability model."
   ]
  },
  {
   "cell_type": "code",
   "execution_count": null,
   "id": "f14761e9-96a8-4317-94cb-47153683eb88",
   "metadata": {},
   "outputs": [],
   "source": [
    "from ramannoodle.polarizability.interpolation import InterpolationModel\n",
    "\n",
    "# Read a reference (equilibrium) structure.\n",
    "ref_structure = vasp_io.outcar.read_ref_structure(f\"{data_dir}/ref_eps_OUTCAR\")\n",
    "\n",
    "# We'll need the polarizability of the equilibrium structure. \n",
    "_, equilibrium_polarizability = vasp_io.outcar.read_positions_and_polarizability(\n",
    "   f\"{data_dir}/ref_eps_OUTCAR\"\n",
    ")\n",
    "model = InterpolationModel(ref_structure, equilibrium_polarizability)\n",
    "\n",
    "# Using __repr__, we can check out model.\n",
    "model"
   ]
  },
  {
   "cell_type": "markdown",
   "id": "58d82797",
   "metadata": {},
   "source": [
    "We've set up `model`, but we are not yet ready to use it to predict polarizabilities. The `__repr__` string of the model indicates that we haven't specified any of the 324 degrees of freedom in this system. To specify these, we'll need to add data! Specifically, we will walk through the system's symmetrically distinct degrees of freedom and add relevant polarizabilities for displacements along those degrees of freedom.\n",
    "\n",
    "### Building up our model\n",
    "\n",
    "You can find the TiO2 supercell we're using for these calculations at `tests/data/TiO2/POSCAR`. Note that there are only **two** symmetrically distinct atoms - one Ti and one O. If we understand how movement of an atom influences the polarizability, we can use symmetry to derive the behavior of those that are symmetrically equivalent. \n",
    "\n",
    "Let's focus on a single Ti atom: atom 5 in our structure. Visualize the POSCAR mentioned above, for example using [VESTA](https://jp-minerals.org/vesta/en/). Think about displacing atom 5 along the x-axis. Convince yourself that displacements in the `+x` direction can be related by symmetry to displacements in the `-x` direction. These displacements **symmetrically equivalent**. \n",
    "\n",
    "Atom 5's displacement along the x-axis is a degree of freedom (DOF) of the system. Convince yourself that TiO2 structure contains many DOFs that are **symmetrically equivalent** to this DOF.\n",
    "\n",
    " [InterpolationModel](../generated/ramannoodle.polarizability.html#module-ramannoodle.polarizability.interpolation.InterpolationModel)'s key assumption is that every DOF modulates the polarizability independently. The module estimates this modulation using an interpolation around each DOF. We need to \"add\" each DOF to `model`, specifying specific displacements as well as polarizabilities for these displacements (which we calculate using VASP). Internally, the model will handle all symmetry considerations. "
   ]
  },
  {
   "cell_type": "code",
   "execution_count": null,
   "id": "147f6a26-a22a-4cff-9659-336d6316e0b1",
   "metadata": {},
   "outputs": [],
   "source": [
    "# OUTCARS are polarizability calculation where atom 5 (Ti) \n",
    "# was displaced +0.1 and +0.2 angstrom in the x direction\n",
    "model.add_dof_from_files(\n",
    "    [f\"{data_dir}/Ti5_0.1x_eps_OUTCAR\", f\"{data_dir}/Ti5_0.2x_eps_OUTCAR\"],\n",
    "    file_format = 'outcar', interpolation_order=2\n",
    ")\n",
    "\n",
    "# (36 equivalent Ti atoms) * (2 equivalent directions) --> 72 dofs should be added\n",
    "model"
   ]
  },
  {
   "cell_type": "markdown",
   "id": "a6c70688",
   "metadata": {},
   "source": [
    "We've added a total of 72 interpolations (i.e. 72 DOFs). Convince yourself that this makes sense."
   ]
  },
  {
   "cell_type": "code",
   "execution_count": null,
   "id": "370ffc55-8cdb-4101-84b1-4f3a5940525e",
   "metadata": {},
   "outputs": [],
   "source": [
    "# atom 5 moving +0.1 and +0.2 angstroms in the z direction\n",
    "model.add_dof_from_files([f\"{data_dir}/Ti5_0.1z_eps_OUTCAR\",\n",
    "                          f\"{data_dir}/Ti5_0.2z_eps_OUTCAR\"],\n",
    "                         file_format = 'outcar', interpolation_order=2)\n",
    "\n",
    "# (36 equivalent Ti atoms) * (1 equivalent direction) --> another 36 DOFs\n",
    "model"
   ]
  },
  {
   "cell_type": "markdown",
   "id": "8613d742",
   "metadata": {},
   "source": [
    "Now, let's move on to the oxygen motions."
   ]
  },
  {
   "cell_type": "code",
   "execution_count": null,
   "id": "25e7947c-b9f5-4d9d-bb33-3fc447217c0d",
   "metadata": {},
   "outputs": [],
   "source": [
    "# atom 43 moving in the z direction\n",
    "# Convince yourself that we need all of these displacements. \n",
    "model.add_dof_from_files([f\"{data_dir}/O43_0.2z_eps_OUTCAR\",\n",
    "                          f\"{data_dir}/O43_0.1z_eps_OUTCAR\", \n",
    "                          f\"{data_dir}/O43_m0.1z_eps_OUTCAR\", \n",
    "                          f\"{data_dir}/O43_m0.2z_eps_OUTCAR\"], file_format= 'outcar', interpolation_order=2)\n",
    "\n",
    "model"
   ]
  },
  {
   "cell_type": "code",
   "execution_count": null,
   "id": "c4603def-3dcf-469e-b78c-0ab4c239a18d",
   "metadata": {},
   "outputs": [],
   "source": [
    "model.add_dof_from_files([f\"{data_dir}/O43_0.1x_eps_OUTCAR\",\n",
    "                         f\"{data_dir}/O43_0.2x_eps_OUTCAR\"], \n",
    "                         file_format = 'outcar', interpolation_order=2)\n",
    "\n",
    "model"
   ]
  },
  {
   "cell_type": "code",
   "execution_count": null,
   "id": "7189ea1e-3f41-4347-a3a1-2d6adb5b62e9",
   "metadata": {},
   "outputs": [],
   "source": [
    "model.add_dof_from_files([f\"{data_dir}/O43_0.1y_eps_OUTCAR\",\n",
    "                          f\"{data_dir}/O43_0.2y_eps_OUTCAR\"],\n",
    "                            file_format = 'outcar', interpolation_order=2)\n",
    "\n",
    "# We should now have specified all 324 DOFs\n",
    "model"
   ]
  },
  {
   "cell_type": "markdown",
   "id": "d46db59c",
   "metadata": {},
   "source": [
    "The model should contain 324 interpolations, indicating that all 324 DOFs of the system are accounted for. \n",
    "\n",
    "### Visualizing model parameters\n",
    "\n",
    "Just for fun, let's visualize the interpolations for a specific atom."
   ]
  },
  {
   "cell_type": "code",
   "execution_count": null,
   "id": "fcb23aaf",
   "metadata": {},
   "outputs": [],
   "source": [
    "atom_number = 5 # Feel free to change this!\n",
    "\n",
    "fig = plt.figure(constrained_layout = True, figsize = (8, 2))\n",
    "gs = fig.add_gridspec(1,6, wspace=0)\n",
    "axes = gs.subplots(sharex=True, sharey=True)\n",
    "interp_displacements = np.linspace(-0.21,0.21,50)\n",
    "\n",
    "target_interps = []\n",
    "signs = []\n",
    "for direction_i in [0,1,2]:\n",
    "    basis_vector = model.cart_basis_vectors[0] * 0\n",
    "    basis_vector[atom_number-1][direction_i] = 1\n",
    "    for basis, interp in zip(model.cart_basis_vectors,model._interpolations):\n",
    "        if np.dot(basis.flatten(), basis_vector.flatten()) < -0.9:\n",
    "            target_interps.append(interp)\n",
    "            signs.append(-1)\n",
    "        elif np.dot(basis.flatten(), basis_vector.flatten()) > 0.9:\n",
    "            target_interps.append(interp)\n",
    "            signs.append(1)\n",
    "\n",
    "\n",
    "for axis_i, (i,j) in enumerate([(0,0),(1,1),(2,2),(0,1),(0,2),(1,2)]):\n",
    "    axis = axes[axis_i] # type: ignore\n",
    "    colors = ['purple', 'red', 'orange']\n",
    "    labels = ['x','y','z']\n",
    "\n",
    "    for interp,sign,color,label in zip(target_interps,signs,colors,labels):\n",
    "        axis.plot(interp_displacements, \n",
    "                  interp(sign*interp_displacements)[:,i,j], color = color, label = label)\n",
    "    axis.set_xlabel(r\"$\\delta$ (Å)\")\n",
    "    subscripts = ['x','y','z']\n",
    "    alpha_string = r\"$\\alpha_{\" + subscripts[i] + subscripts[j] + \"}$\"\n",
    "    axis.set_title(alpha_string)\n",
    "    if axis_i == 0:\n",
    "        l = axis.legend(fontsize = \"small\", frameon = False)\n",
    "        \n",
    "l = axes[0].set_ylabel(r\"$\\Delta\\alpha$\")\n",
    "    "
   ]
  },
  {
   "cell_type": "markdown",
   "id": "b34a5dc5",
   "metadata": {},
   "source": [
    "### Calculating a Raman spectrum"
   ]
  },
  {
   "cell_type": "markdown",
   "id": "9f4a9b56",
   "metadata": {},
   "source": [
    "With the model specified, we're ready to calculate a Raman spectrum."
   ]
  },
  {
   "cell_type": "code",
   "execution_count": null,
   "id": "b1f2cb2c-8444-4b6a-ae8e-f1ac6c6a6e98",
   "metadata": {},
   "outputs": [],
   "source": [
    "# Compute and plot spectrum\n",
    "spectrum = phonons.get_raman_spectrum(model)\n",
    "wavenumbers, intensities = spectrum.measure(laser_correction = True, \n",
    "                                           laser_wavelength = 532, \n",
    "                                           bose_einstein_correction = True, \n",
    "                                           temperature = 300)\n",
    "fig = plt.figure(constrained_layout = True, figsize = (8, 3))\n",
    "axis = fig.add_subplot(111)\n",
    "axis.plot(wavenumbers, intensities)\n",
    "axis.set_ylabel(\"Intensity (a.u.)\")\n",
    "l = axis.set_xlabel(r\"Raman shift ($\\mathregular{cm^{-1}}$)\")"
   ]
  },
  {
   "cell_type": "markdown",
   "id": "049753d4",
   "metadata": {},
   "source": [
    "`spectrum.calculate` returns a fairly unprocessed spectrum - literally a list of phonon frequencies and intensities. To make a nicer, more realistic visualization, we can broaden the spectra through convolutions."
   ]
  },
  {
   "cell_type": "code",
   "execution_count": null,
   "id": "e0806350-ac5d-4f09-826d-b9dc85ec471b",
   "metadata": {},
   "outputs": [],
   "source": [
    "from ramannoodle.spectrum.spectrum_utils import convolve_spectrum\n",
    "\n",
    "# Let's make it prettier. \n",
    "wavenumbers, intensities = spectrum.measure(laser_correction = True, \n",
    "                                laser_wavelength = 532, \n",
    "                                           bose_einstein_correction = True, \n",
    "                                           temperature = 300)\n",
    "wavenumbers, intensities = convolve_spectrum(wavenumbers, intensities)\n",
    "\n",
    "fig = plt.figure(constrained_layout = True, figsize = (8, 3))\n",
    "axis = fig.add_subplot(111)\n",
    "axis.plot(wavenumbers, intensities)\n",
    "axis.set_ylabel(\"Intensity (a.u.)\")\n",
    "l = axis.set_xlabel(r\"Raman shift ($\\mathregular{cm^{-1}}$)\")\n"
   ]
  },
  {
   "cell_type": "markdown",
   "id": "14cbffbc",
   "metadata": {},
   "source": [
    "And there you have it! Using ramannoodle's [InterpolationModel](../generated/ramannoodle.polarizability.html#module-ramannoodle.polarizability.interpolation.InterpolationModel), we calculated a full Raman spectrum for TiO2 using data from just a handful of polarizability calculations.\n",
    "\n",
    "Next, we will introduce [ARTModel](../generated/ramannoodle.polarizability.html#module-ramannoodle.polarizability.art.ARTModel) and give a more complete overview of ramannoodle's workflow: [Full workflow](../notebooks/full-workflow.html)"
   ]
  },
  {
   "cell_type": "markdown",
   "id": "9d401744",
   "metadata": {},
   "source": []
  }
 ],
 "metadata": {
  "kernelspec": {
   "display_name": "Python 3 (ipykernel)",
   "language": "python",
   "name": "python3"
  },
  "language_info": {
   "codemirror_mode": {
    "name": "ipython",
    "version": 3
   },
   "file_extension": ".py",
   "mimetype": "text/x-python",
   "name": "python",
   "nbconvert_exporter": "python",
   "pygments_lexer": "ipython3",
   "version": "3.12.4"
  }
 },
 "nbformat": 4,
 "nbformat_minor": 5
}
